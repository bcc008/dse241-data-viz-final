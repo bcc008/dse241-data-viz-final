{
 "cells": [
  {
   "cell_type": "code",
   "execution_count": 1,
   "metadata": {},
   "outputs": [],
   "source": [
    "import pandas as pd\n",
    "import numpy as np\n",
    "import math\n",
    "from bokeh.plotting import figure, output_file, show,save\n",
    "from bokeh.palettes import brewer, d3, inferno, cividis, viridis\n",
    "from bokeh.models import ColumnDataSource, WheelZoomTool, HoverTool, CategoricalColorMapper, LinearColorMapper, ContinuousColorMapper, Legend, LegendItem, Title\n",
    "from bokeh.core.properties import value\n",
    "from bokeh.layouts import row, column,layout"
   ]
  },
  {
   "cell_type": "markdown",
   "metadata": {},
   "source": [
    "## Load Data"
   ]
  },
  {
   "cell_type": "code",
   "execution_count": 2,
   "metadata": {},
   "outputs": [],
   "source": [
    "books = pd.read_csv('../data/raw/books.csv')\n",
    "ratings = pd.read_csv('../data/raw/ratings.csv')\n",
    "book_tags = pd.read_csv('../data/raw/book_tags.csv')\n",
    "tags = pd.read_csv('../data/raw/tags.csv')\n",
    "to_read = pd.read_csv('../data/raw/to_read.csv')"
   ]
  },
  {
   "cell_type": "code",
   "execution_count": 3,
   "metadata": {},
   "outputs": [
    {
     "data": {
      "text/plain": [
       "Index(['book_id', 'goodreads_book_id', 'best_book_id', 'work_id',\n",
       "       'books_count', 'isbn', 'isbn13', 'authors', 'original_publication_year',\n",
       "       'original_title', 'title', 'language_code', 'average_rating',\n",
       "       'ratings_count', 'work_ratings_count', 'work_text_reviews_count',\n",
       "       'ratings_1', 'ratings_2', 'ratings_3', 'ratings_4', 'ratings_5',\n",
       "       'image_url', 'small_image_url'],\n",
       "      dtype='object')"
      ]
     },
     "execution_count": 3,
     "metadata": {},
     "output_type": "execute_result"
    }
   ],
   "source": [
    "books.columns"
   ]
  },
  {
   "cell_type": "markdown",
   "metadata": {},
   "source": [
    "## Add Features"
   ]
  },
  {
   "cell_type": "code",
   "execution_count": 4,
   "metadata": {},
   "outputs": [],
   "source": [
    "books['average_rating']=  (5*books['ratings_5']+4*books['ratings_4']+3*books['ratings_3']+2*books['ratings_2']+1*books['ratings_1'])/\\\n",
    "                         (books['ratings_5']+books['ratings_4']+books['ratings_3']+books['ratings_2']+books['ratings_1'])"
   ]
  },
  {
   "cell_type": "code",
   "execution_count": 5,
   "metadata": {},
   "outputs": [],
   "source": [
    "books = books.loc[books['original_publication_year'].notnull()]"
   ]
  },
  {
   "cell_type": "code",
   "execution_count": 6,
   "metadata": {},
   "outputs": [],
   "source": [
    "books['main_author'] = books.apply(lambda x: x['authors'].split(',')[0], axis=1)"
   ]
  },
  {
   "cell_type": "code",
   "execution_count": 7,
   "metadata": {},
   "outputs": [],
   "source": [
    "books = books.sort_values(['main_author','original_publication_year'])\n",
    "books['nth_release'] = books.groupby('main_author').cumcount()+1"
   ]
  },
  {
   "cell_type": "code",
   "execution_count": 8,
   "metadata": {},
   "outputs": [],
   "source": [
    "books = books.sort_values(['original_publication_year','ratings_count'], ascending=False)"
   ]
  },
  {
   "cell_type": "markdown",
   "metadata": {},
   "source": [
    "## Merge Data"
   ]
  },
  {
   "cell_type": "code",
   "execution_count": 9,
   "metadata": {},
   "outputs": [],
   "source": [
    "tags_df = book_tags.merge(tags)"
   ]
  },
  {
   "cell_type": "code",
   "execution_count": 10,
   "metadata": {},
   "outputs": [],
   "source": [
    "ratings_df = ratings.merge(books[['book_id','title','authors','original_publication_year']])"
   ]
  },
  {
   "cell_type": "markdown",
   "metadata": {},
   "source": [
    "## Viz 1\n",
    "Are newer books more popular (# of ratings) than older books?"
   ]
  },
  {
   "cell_type": "code",
   "execution_count": 11,
   "metadata": {},
   "outputs": [],
   "source": [
    "books1_df = books\n",
    "books1_df = books1_df.loc[(books1_df['original_publication_year'] != 2017) & (books1_df['original_publication_year'] >= 1800)]"
   ]
  },
  {
   "cell_type": "code",
   "execution_count": 12,
   "metadata": {},
   "outputs": [],
   "source": [
    "total_by_year = books1_df.groupby('original_publication_year')['ratings_count'].sum().reset_index()\n",
    "rank_1 = books1_df.groupby('original_publication_year')['title'].nth(0).reset_index().rename({'title':'rank1'},axis='columns')\n",
    "rank_2 = books1_df.groupby('original_publication_year')['title'].nth(1).reset_index().rename({'title':'rank2'},axis='columns')\n",
    "rank_3 = books1_df.groupby('original_publication_year')['title'].nth(2).reset_index().rename({'title':'rank3'},axis='columns')\n",
    "rank_4 = books1_df.groupby('original_publication_year')['title'].nth(3).reset_index().rename({'title':'rank4'},axis='columns')\n",
    "rank_5 = books1_df.groupby('original_publication_year')['title'].nth(4).reset_index().rename({'title':'rank5'},axis='columns')\n",
    "rankings = total_by_year.merge(rank_1,how='left').merge(rank_2,how='left').merge(rank_3,how='left').merge(rank_4,how='left').merge(rank_5,how='left')"
   ]
  },
  {
   "cell_type": "code",
   "execution_count": 13,
   "metadata": {
    "scrolled": true
   },
   "outputs": [],
   "source": [
    "rank_1_count = rank_1.merge(books1_df[['original_publication_year','title','ratings_count']],right_on=['original_publication_year','title'],left_on=['original_publication_year','rank1'],how='inner')[['original_publication_year','title','ratings_count']].set_index('original_publication_year')\n",
    "rank_2_count = rank_2.merge(books1_df[['original_publication_year','title','ratings_count']],right_on=['original_publication_year','title'],left_on=['original_publication_year','rank2'],how='inner')[['original_publication_year','title','ratings_count']].set_index('original_publication_year')\n",
    "rank_3_count = rank_3.merge(books1_df[['original_publication_year','title','ratings_count']],right_on=['original_publication_year','title'],left_on=['original_publication_year','rank3'],how='inner')[['original_publication_year','title','ratings_count']].set_index('original_publication_year')\n",
    "rank_4_count = rank_4.merge(books1_df[['original_publication_year','title','ratings_count']],right_on=['original_publication_year','title'],left_on=['original_publication_year','rank4'],how='inner')[['original_publication_year','title','ratings_count']].set_index('original_publication_year')\n",
    "rank_5_count = rank_5.merge(books1_df[['original_publication_year','title','ratings_count']],right_on=['original_publication_year','title'],left_on=['original_publication_year','rank5'],how='inner')[['original_publication_year','title','ratings_count']].set_index('original_publication_year')"
   ]
  },
  {
   "cell_type": "code",
   "execution_count": 14,
   "metadata": {},
   "outputs": [],
   "source": [
    "ratings_count_df = pd.concat([total_by_year.set_index('original_publication_year')['ratings_count'],rank_1_count[['title','ratings_count']],rank_2_count[['title','ratings_count']],rank_3_count[['title','ratings_count']],rank_4_count[['title','ratings_count']],rank_5_count[['title','ratings_count']]],axis=1,join='outer')\n",
    "ratings_count_df['title'] = ratings_count_df['title'].fillna('N/A')\n",
    "ratings_count_df['ratings_count'] = ratings_count_df['ratings_count'].fillna(0)"
   ]
  },
  {
   "cell_type": "code",
   "execution_count": 15,
   "metadata": {},
   "outputs": [],
   "source": [
    "other_books = ratings_count_df.values.transpose()[0]\n",
    "for i in range(1,6):\n",
    "    other_books = other_books-ratings_count_df.values.transpose()[2*i]"
   ]
  },
  {
   "cell_type": "code",
   "execution_count": 16,
   "metadata": {},
   "outputs": [],
   "source": [
    "rank = ['Other books','#1 most popular book','#2 most popular book','#3 most popular book','#4 most popular book','#5 most popular book']\n",
    "years = total_by_year['original_publication_year'].unique()\n",
    "data1 = ColumnDataSource(data={\n",
    "    'years': years,\n",
    "    'Other books': other_books,\n",
    "    '#1 most popular book': ratings_count_df.values.transpose().tolist()[2],\n",
    "    '#2 most popular book': ratings_count_df.values.transpose().tolist()[4],\n",
    "    '#3 most popular book': ratings_count_df.values.transpose().tolist()[6],\n",
    "    '#4 most popular book': ratings_count_df.values.transpose().tolist()[8],\n",
    "    '#5 most popular book': ratings_count_df.values.transpose().tolist()[10],\n",
    "    'total_ratings': ratings_count_df.values.transpose().tolist()[0],\n",
    "    'rank1': ratings_count_df.values.transpose().tolist()[1],\n",
    "    'rank2': ratings_count_df.values.transpose().tolist()[3],\n",
    "    'rank3': ratings_count_df.values.transpose().tolist()[5],\n",
    "    'rank4': ratings_count_df.values.transpose().tolist()[7],\n",
    "    'rank5': ratings_count_df.values.transpose().tolist()[9],\n",
    "})"
   ]
  },
  {
   "cell_type": "code",
   "execution_count": 17,
   "metadata": {},
   "outputs": [],
   "source": [
    "colors1 = brewer['Spectral'][6]"
   ]
  },
  {
   "cell_type": "code",
   "execution_count": 18,
   "metadata": {},
   "outputs": [
    {
     "data": {
      "text/plain": [
       "[GlyphRenderer(id='1053', ...),\n",
       " GlyphRenderer(id='1066', ...),\n",
       " GlyphRenderer(id='1080', ...),\n",
       " GlyphRenderer(id='1094', ...),\n",
       " GlyphRenderer(id='1108', ...),\n",
       " GlyphRenderer(id='1122', ...)]"
      ]
     },
     "execution_count": 18,
     "metadata": {},
     "output_type": "execute_result"
    }
   ],
   "source": [
    "p1 = figure(plot_width=1600, plot_height=600, title='Visualization 1: Total Ratings by Year')\n",
    "p1.vbar_stack(rank,x='years', width=1, source=data1, color=colors1, legend=[value(x) for x in rank])"
   ]
  },
  {
   "cell_type": "code",
   "execution_count": 19,
   "metadata": {},
   "outputs": [],
   "source": [
    "p1.add_tools(HoverTool(\n",
    "    tooltips=[\n",
    "        ('Year','@years'),\n",
    "        ('Number of Ratings','@total_ratings'),\n",
    "        ('#1 book','@rank1'),\n",
    "        ('#2 book','@rank2'),\n",
    "        ('#3 book','@rank3'),\n",
    "        ('#4 book','@rank4'),\n",
    "        ('#5 book','@rank5')\n",
    "    ],\n",
    "    formatters={\n",
    "        'Year' : 'datetime',\n",
    "        'Number of Ratings' : 'numeral',\n",
    "        '#1 book': 'printf',\n",
    "        '#2 book': 'printf',\n",
    "        '#3 book': 'printf',\n",
    "        '#4 book': 'printf',\n",
    "        '#5 book': 'printf',\n",
    "    },\n",
    "    mode='mouse'\n",
    "))\n",
    "p1.legend.location = \"top_left\"\n",
    "p1.legend.orientation = \"vertical\"\n",
    "p1.legend.label_text_font_size = '8pt'\n",
    "p1.title.text_font_size = '20pt'\n",
    "p1.xaxis.axis_label = 'Publication Year'\n",
    "p1.yaxis.axis_label = 'Total Ratings'\n",
    "p1.left[0].formatter.use_scientific = False"
   ]
  },
  {
   "cell_type": "markdown",
   "metadata": {},
   "source": [
    "## Viz 2\n",
    "What are the top 300 most read books and how do they tend to score?"
   ]
  },
  {
   "cell_type": "code",
   "execution_count": 20,
   "metadata": {},
   "outputs": [
    {
     "name": "stdout",
     "output_type": "stream",
     "text": [
      "0.1th Quantile: 1957.0\n",
      "0.2th Quantile: 1984.0\n",
      "0.3th Quantile: 1995.0\n",
      "0.4th Quantile: 2000.0\n",
      "0.5th Quantile: 2004.0\n",
      "0.6th Quantile: 2007.0\n",
      "0.7th Quantile: 2010.0\n",
      "0.8th Quantile: 2012.0\n",
      "0.9th Quantile: 2013.0\n",
      "1.0th Quantile: 2017.0\n"
     ]
    }
   ],
   "source": [
    "for i in range(1,11):\n",
    "    print(str(np.round(i*0.1,2))+'th Quantile: '+str(books['original_publication_year'].quantile(q=i*0.1)))"
   ]
  },
  {
   "cell_type": "code",
   "execution_count": 21,
   "metadata": {},
   "outputs": [],
   "source": [
    "books2_df = books\n",
    "books2_df['publication_date_revised'] = books2_df['original_publication_year']\n",
    "books2_df.loc[books2_df['publication_date_revised'] < 1800,'publication_date_revised'] = 1800\n",
    "books2_df = books2_df.loc[(books2_df['publication_date_revised'] != 2017) & (books2_df['publication_date_revised'] >= 1800)]"
   ]
  },
  {
   "cell_type": "code",
   "execution_count": 22,
   "metadata": {},
   "outputs": [
    {
     "name": "stderr",
     "output_type": "stream",
     "text": [
      "C:\\ProgramData\\Anaconda3\\lib\\site-packages\\pandas\\core\\indexing.py:362: SettingWithCopyWarning: \n",
      "A value is trying to be set on a copy of a slice from a DataFrame.\n",
      "Try using .loc[row_indexer,col_indexer] = value instead\n",
      "\n",
      "See the caveats in the documentation: http://pandas.pydata.org/pandas-docs/stable/indexing.html#indexing-view-versus-copy\n",
      "  self.obj[key] = _infer_fill_value(value)\n",
      "C:\\ProgramData\\Anaconda3\\lib\\site-packages\\pandas\\core\\indexing.py:543: SettingWithCopyWarning: \n",
      "A value is trying to be set on a copy of a slice from a DataFrame.\n",
      "Try using .loc[row_indexer,col_indexer] = value instead\n",
      "\n",
      "See the caveats in the documentation: http://pandas.pydata.org/pandas-docs/stable/indexing.html#indexing-view-versus-copy\n",
      "  self.obj[item] = s\n"
     ]
    }
   ],
   "source": [
    "bins = [(-5000,1800,'Pre 19th Century'),(1800,1900,'19th Century'),(1900,1946,'Early 20th Century'),\n",
    "        (1946,1980,'Mid 20th Century'),(1980,2000,'Late 20th Century'),(2000,2020,'21st Century')]\n",
    "\n",
    "for s,e,r in bins:\n",
    "    books2_df.loc[(books2_df['original_publication_year'] >= s) & (books2_df['original_publication_year'] < e),'date_bins'] = r"
   ]
  },
  {
   "cell_type": "code",
   "execution_count": 23,
   "metadata": {},
   "outputs": [],
   "source": [
    "books2_df_300 = books2_df.nlargest(300,'ratings_count')\n",
    "books2_df_300['count_size'] = books2_df_300['ratings_count'].apply(lambda x: x/100000)\n",
    "books2_df_300.loc[books2_df_300['count_size'] < 3, 'count_size'] = 3"
   ]
  },
  {
   "cell_type": "code",
   "execution_count": 24,
   "metadata": {},
   "outputs": [],
   "source": [
    "colors2 = brewer['Set2'][6]\n",
    "color_map2 = CategoricalColorMapper(factors=books2_df['date_bins'].unique(),palette=colors2)"
   ]
  },
  {
   "cell_type": "code",
   "execution_count": 25,
   "metadata": {},
   "outputs": [],
   "source": [
    "data2 = ColumnDataSource(books2_df_300)"
   ]
  },
  {
   "cell_type": "code",
   "execution_count": 26,
   "metadata": {},
   "outputs": [],
   "source": [
    "books2_df_30 = books2_df.nlargest(20,'ratings_count')"
   ]
  },
  {
   "cell_type": "code",
   "execution_count": 27,
   "metadata": {},
   "outputs": [],
   "source": [
    "p2 = figure(plot_width=1600, plot_height=600, x_range=(1790,2050), title='Visualization 2: Top 300 Books by Year and Rating')\n",
    "p2_circles = p2.circle('publication_date_revised', 'average_rating', source=data2, size='count_size', line_width=2, color={'field': 'date_bins', 'transform': color_map2}, legend='date_bins')\n",
    "p2_text = p2.text(books2_df_30['publication_date_revised'], books2_df_30['average_rating'], books2_df_30['title'], x_offset=3, y_offset= 3, text_font_size= '8pt')"
   ]
  },
  {
   "cell_type": "code",
   "execution_count": 28,
   "metadata": {},
   "outputs": [],
   "source": [
    "p2.add_tools(HoverTool(\n",
    "    renderers=[p2_circles],\n",
    "    tooltips=[\n",
    "        ('Book', '@title'),\n",
    "        ('Author', '@main_author'),\n",
    "        ('Year','@original_publication_year'),\n",
    "        ('Number of Ratings','@ratings_count'),\n",
    "        ('Average Rating','@average_rating'),\n",
    "    ],\n",
    "    formatters={\n",
    "        'Book': 'printf',\n",
    "        'Author': 'printf',\n",
    "        'Year' : 'datetime',\n",
    "        'Number of Ratings' : 'printf',\n",
    "        'Average Rating' : 'printf'\n",
    "    },\n",
    "    mode='mouse'\n",
    "))\n",
    "p2.legend.location = \"top_left\"\n",
    "p2.legend.orientation = \"vertical\"\n",
    "p2.legend.label_text_font_size = '8pt'\n",
    "p2.title.text_font_size = '20pt'\n",
    "p2.xaxis.axis_label = 'Publication Year'\n",
    "p2.yaxis.axis_label = 'Average Rating'"
   ]
  },
  {
   "cell_type": "markdown",
   "metadata": {},
   "source": [
    "## Viz 3\n",
    "What is the mean and variance of book ratings by period? In other words, are classics better regarded than contemporary books?"
   ]
  },
  {
   "cell_type": "code",
   "execution_count": 29,
   "metadata": {},
   "outputs": [],
   "source": [
    "books3_df = books"
   ]
  },
  {
   "cell_type": "code",
   "execution_count": 30,
   "metadata": {},
   "outputs": [],
   "source": [
    "bins = [(-5000,1800,'Pre 19th Century'),(1800,1900,'19th Century'),(1900,1946,'Early 20th Century'),\n",
    "        (1946,1980,'Mid 20th Century'),(1980,2000,'Late 20th Century'),(2000,2020,'21st Century')]\n",
    "\n",
    "for s,e,r in bins:\n",
    "    books3_df.loc[(books3_df['original_publication_year'] >= s) & (books3_df['original_publication_year'] < e),'date_bins'] = r"
   ]
  },
  {
   "cell_type": "code",
   "execution_count": 31,
   "metadata": {},
   "outputs": [],
   "source": [
    "period = ['Pre 19th Century','19th Century','Early 20th Century',\n",
    "          'Mid 20th Century','Late 20th Century','21st Century']\n",
    "#period = period[::-1]"
   ]
  },
  {
   "cell_type": "code",
   "execution_count": 32,
   "metadata": {},
   "outputs": [],
   "source": [
    "def build_quantiles(df):\n",
    "    ## build quantiles\n",
    "    groups = df.groupby('date_bins')\n",
    "    q1 = groups.quantile(q=0.25)\n",
    "    q2 = groups.quantile(q=0.5)\n",
    "    q3 = groups.quantile(q=0.75)\n",
    "    iqr = q3 - q1\n",
    "    upper = q3 + 1.5*iqr\n",
    "    lower = q1 - 1.5*iqr\n",
    "    upper['original_publication_year'] = q3['original_publication_year']\n",
    "    lower['original_publication_year'] = q3['original_publication_year']\n",
    "    ## build outliers\n",
    "    def outliers(group):\n",
    "        cat = group.name\n",
    "        return group[(group.average_rating > upper.loc[cat]['average_rating']) | (group.average_rating < lower.loc[cat]['average_rating'])]['average_rating']\n",
    "    out = groups.apply(outliers).dropna()\n",
    "    if not out.empty:\n",
    "        outx = []\n",
    "        outy = []\n",
    "    for keys in out.index:\n",
    "        outx.append(keys[0])\n",
    "        outy.append(out.loc[keys[0]].loc[keys[1]])\n",
    "    ## get qmin and qmax\n",
    "    qmin = groups.quantile(q=0.00)\n",
    "    qmax = groups.quantile(q=1.00)\n",
    "    upper.average_rating = [min([x,y]) for (x,y) in zip(list(qmax.loc[:,'average_rating']),upper.average_rating)]\n",
    "    lower.average_rating = [max([x,y]) for (x,y) in zip(list(qmin.loc[:,'average_rating']),lower.average_rating)]\n",
    "    ## build quantile_dict\n",
    "    value_dict = {\n",
    "                    'q1': q1.sort_values('original_publication_year',ascending=True),\n",
    "                    'q2': q2.sort_values('original_publication_year',ascending=True),\n",
    "                    'q3': q3.sort_values('original_publication_year',ascending=True),\n",
    "                    'iqr': iqr.sort_values('original_publication_year',ascending=True),\n",
    "                    'upper': upper.sort_values('original_publication_year',ascending=True),\n",
    "                    'lower': lower.sort_values('original_publication_year',ascending=True),\n",
    "                    'out': out,\n",
    "                    'outx': outx,\n",
    "                    'outy': outy\n",
    "                    }\n",
    "    return value_dict"
   ]
  },
  {
   "cell_type": "code",
   "execution_count": 33,
   "metadata": {
    "scrolled": true
   },
   "outputs": [],
   "source": [
    "def create_plot(p3, values, period):\n",
    "    p3.segment(period, values['upper'].average_rating, period, values['q3'].average_rating, line_color=\"black\")\n",
    "    p3.segment(period, values['lower'].average_rating, period, values['q1'].average_rating, line_color=\"black\")\n",
    "    p3.vbar(period, 0.25, values['q2'].average_rating, values['q3'].average_rating, fill_color=\"#32CD32\", line_color=\"black\")\n",
    "    p3.vbar(period, 0.25, values['q1'].average_rating, values['q2'].average_rating, fill_color=\"#FFC0CB\", line_color=\"black\")\n",
    "    p3.rect(period, values['lower'].average_rating, 0.3, 0.01, line_color=\"black\")\n",
    "    p3.rect(period, values['upper'].average_rating, 0.3, 0.01, line_color=\"black\")\n",
    "    if not values['out'].empty:\n",
    "        p3.circle(values['outx'], values['outy'], size=6, color=\"#F38630\", fill_alpha=0.6)\n",
    "    p3.grid.grid_line_width = 1\n",
    "    p3.xaxis.major_label_text_font_size=\"9pt\"\n",
    "    p3.title.text_font_size = '16pt'\n",
    "    p3.xaxis.axis_label = 'Periods'\n",
    "    p3.xaxis.major_label_orientation = math.pi/4\n",
    "    p3.yaxis.axis_label = 'Average Rating'\n",
    "    p3.ygrid.minor_grid_line_color = 'navy'\n",
    "    p3.ygrid.minor_grid_line_alpha = 0.1"
   ]
  },
  {
   "cell_type": "code",
   "execution_count": 34,
   "metadata": {},
   "outputs": [],
   "source": [
    "p3_300 = figure(plot_width=400, plot_height=600, tools=\"\", x_range=period, y_range=(2.5, 5), toolbar_location=None, title='Top 300 Books')\n",
    "p3_1500 = figure(plot_width=400, plot_height=600, tools=\"\", x_range=period, y_range=(2.5, 5), toolbar_location=None, title='Top 1500 Books')\n",
    "p3_10000 = figure(plot_width=400, plot_height=600, tools=\"\", x_range=period, y_range=(2.5, 5), toolbar_location=None, title='Top 10000 Books')"
   ]
  },
  {
   "cell_type": "code",
   "execution_count": 35,
   "metadata": {},
   "outputs": [],
   "source": [
    "values_300 = build_quantiles(books3_df.nlargest(300,'ratings_count'))\n",
    "values_1500 = build_quantiles(books3_df.nlargest(1500,'ratings_count'))\n",
    "values_10000 = build_quantiles(books3_df.nlargest(10000,'ratings_count'))"
   ]
  },
  {
   "cell_type": "code",
   "execution_count": 36,
   "metadata": {},
   "outputs": [],
   "source": [
    "create_plot(p3_300,values_300,period)\n",
    "create_plot(p3_1500,values_1500,period)\n",
    "create_plot(p3_10000,values_10000,period)"
   ]
  },
  {
   "cell_type": "code",
   "execution_count": 37,
   "metadata": {},
   "outputs": [],
   "source": [
    "p2.add_layout(Title(text='Visualization 3: Distribution of Rating by Period', text_font_size='20pt'), 'below')"
   ]
  },
  {
   "cell_type": "code",
   "execution_count": 38,
   "metadata": {},
   "outputs": [],
   "source": [
    "p3_all = row([p3_300,p3_1500,p3_10000])"
   ]
  },
  {
   "cell_type": "markdown",
   "metadata": {},
   "source": [
    "## Viz 4\n"
   ]
  },
  {
   "cell_type": "code",
   "execution_count": 39,
   "metadata": {
    "scrolled": true
   },
   "outputs": [],
   "source": [
    "books4_df = books"
   ]
  },
  {
   "cell_type": "code",
   "execution_count": 40,
   "metadata": {},
   "outputs": [],
   "source": [
    "top_authors4 = books.groupby('main_author')['ratings_count'].sum().sort_values(ascending=False)[0:300]\n",
    "books4_df = books4_df.loc[books4_df['main_author'].isin(top_authors4.index)]"
   ]
  },
  {
   "cell_type": "code",
   "execution_count": 41,
   "metadata": {},
   "outputs": [],
   "source": [
    "ratings_count_4 = books4_df.groupby('main_author')['ratings_count'].sum().reset_index()\n",
    "releases_4 = books4_df.groupby('main_author')['nth_release'].max().reset_index()\n",
    "releases_4['num_releases'] = releases_4['nth_release'].apply(lambda x: str(x)+' releases')\n",
    "releases_4.loc[releases_4['nth_release'] > 14, 'num_releases'] = '15+ releases'\n",
    "releases_4['num_releases'] = releases_4['num_releases'].astype(str)\n",
    "avg_rating_4 = books4_df.groupby('main_author')['average_rating'].mean().reset_index()\n",
    "earliest_book_4 = books4_df.groupby('main_author')['original_publication_year'].min().reset_index()"
   ]
  },
  {
   "cell_type": "code",
   "execution_count": 42,
   "metadata": {},
   "outputs": [],
   "source": [
    "books4_df = ratings_count_4.merge(releases_4).merge(avg_rating_4).merge(earliest_book_4)\n",
    "books4_df = books4_df.sort_values('nth_release')\n",
    "books4_df['count_size'] = books4_df['ratings_count']/100000\n",
    "books4_df.loc[books4_df['count_size'] < 3, 'count_size'] = 3"
   ]
  },
  {
   "cell_type": "code",
   "execution_count": 43,
   "metadata": {},
   "outputs": [],
   "source": [
    "books4_df_30 = books4_df.nlargest(30,'ratings_count')"
   ]
  },
  {
   "cell_type": "code",
   "execution_count": 44,
   "metadata": {},
   "outputs": [],
   "source": [
    "data4 = ColumnDataSource(books4_df)"
   ]
  },
  {
   "cell_type": "code",
   "execution_count": 45,
   "metadata": {
    "scrolled": true
   },
   "outputs": [],
   "source": [
    "color_map4 = CategoricalColorMapper(factors=[str(i)+' releases' for i in range(1,15)]+['15+ releases'], palette=viridis(22)[::-1])"
   ]
  },
  {
   "cell_type": "code",
   "execution_count": 46,
   "metadata": {},
   "outputs": [],
   "source": [
    "p4 = figure(plot_width=1600, plot_height=600, x_range=(1800,2020), title='Visualization 4: Most Popular Authors')"
   ]
  },
  {
   "cell_type": "code",
   "execution_count": 47,
   "metadata": {},
   "outputs": [],
   "source": [
    "p4_circle = p4.circle(x='original_publication_year',y='average_rating', source=data4, color={'field': 'num_releases', 'transform': color_map4} ,size='count_size',legend='num_releases')\n",
    "p4_text = p4.text(books4_df_30['original_publication_year'], books4_df_30['average_rating'], books4_df_30['main_author'], x_offset=3, y_offset= 3, text_font_size= '8pt')"
   ]
  },
  {
   "cell_type": "code",
   "execution_count": 48,
   "metadata": {},
   "outputs": [],
   "source": [
    "p4.add_tools(HoverTool(\n",
    "    renderers=[p4_circle],\n",
    "    tooltips=[\n",
    "        ('Author', '@main_author'),\n",
    "        ('Year of First Publication','@original_publication_year'),\n",
    "        ('Number of Books','@nth_release'),\n",
    "        ('Number of Ratings','@average_rating'),\n",
    "        ('Average Rating','@average_rating'),\n",
    "    ],\n",
    "    formatters={\n",
    "        'Author': 'printf',\n",
    "        'Year of First Publication' : 'datetime',\n",
    "        'Number of Ratings' : 'printf',\n",
    "        'Average Rating' : 'printf'\n",
    "    },\n",
    "    mode='mouse'\n",
    "))\n",
    "p4.legend.location = \"top_left\"\n",
    "p4.legend.orientation = \"vertical\"\n",
    "p4.legend.label_text_font_size = '8pt'\n",
    "p4.xaxis.major_label_text_font_size=\"9pt\"\n",
    "p4.title.text_font_size = '20pt'\n",
    "p4.xaxis.axis_label = 'Year of First Publication'\n",
    "p4.yaxis.axis_label = 'Average Rating of Books'\n",
    "p4.xgrid.minor_grid_line_color = 'navy'\n",
    "p4.xgrid.minor_grid_line_alpha = 0.1"
   ]
  },
  {
   "cell_type": "markdown",
   "metadata": {},
   "source": [
    "## Viz 5\n",
    "For authors with multiple books, how does their popularity and ratings change over time?"
   ]
  },
  {
   "cell_type": "code",
   "execution_count": 49,
   "metadata": {},
   "outputs": [],
   "source": [
    "books5_df = books"
   ]
  },
  {
   "cell_type": "code",
   "execution_count": 50,
   "metadata": {},
   "outputs": [],
   "source": [
    "authors_filtered = books5_df.loc[(books5_df['nth_release'] == 2) & (books5_df['main_author'] != 'Anonymous')]"
   ]
  },
  {
   "cell_type": "code",
   "execution_count": 51,
   "metadata": {},
   "outputs": [],
   "source": [
    "top_authors_19th = books.loc[(books['original_publication_year'] >= 1800) & (books['original_publication_year'] < 1900) & (books['main_author'].isin(authors_filtered['main_author']))].groupby('main_author')['ratings_count'].sum().sort_values(ascending=False)[0:12]\n",
    "top_authors_e20th = books.loc[(books['original_publication_year'] >= 1900) & (books['original_publication_year'] < 1946) & (books['main_author'].isin(authors_filtered['main_author']))].groupby('main_author')['ratings_count'].sum().sort_values(ascending=False)[0:6]\n",
    "top_authors_m20th = books.loc[(books['original_publication_year'] >= 1946) & (books['original_publication_year'] < 1980) & (books['main_author'].isin(authors_filtered['main_author']))].groupby('main_author')['ratings_count'].sum().sort_values(ascending=False)[0:5]\n",
    "top_authors_l20th = books.loc[(books['original_publication_year'] >= 1980) & (books['original_publication_year'] < 2000) & (books['main_author'].isin(authors_filtered['main_author']))].groupby('main_author')['ratings_count'].sum().sort_values(ascending=False)[0:5]\n",
    "top_authors_21st = books.loc[(books['original_publication_year'] >= 2000) & (books['original_publication_year'] < 2020) & (books['main_author'].isin(authors_filtered['main_author']))].groupby('main_author')['ratings_count'].sum().sort_values(ascending=False)[0:5]"
   ]
  },
  {
   "cell_type": "code",
   "execution_count": 52,
   "metadata": {},
   "outputs": [],
   "source": [
    "top_authors5 = pd.concat([top_authors_19th,top_authors_e20th,top_authors_m20th,top_authors_l20th,top_authors_21st], axis=0)"
   ]
  },
  {
   "cell_type": "code",
   "execution_count": 53,
   "metadata": {},
   "outputs": [],
   "source": [
    "authors = books5_df.loc[books5_df['main_author'].isin(top_authors5.index),'main_author']"
   ]
  },
  {
   "cell_type": "code",
   "execution_count": 54,
   "metadata": {},
   "outputs": [],
   "source": [
    "books5_df = books5_df.loc[books5_df['main_author'].isin(authors)][['main_author','title','original_publication_year','ratings_count','average_rating','nth_release']]\n",
    "books5_df = books5_df.sort_values(['original_publication_year','nth_release','main_author'])\n",
    "books5_df = books5_df.drop_duplicates(['main_author','original_publication_year'], keep='first')"
   ]
  },
  {
   "cell_type": "code",
   "execution_count": 55,
   "metadata": {
    "scrolled": true
   },
   "outputs": [],
   "source": [
    "publication_years_5 = []\n",
    "ratings_count_5 = []\n",
    "main_author_5 = []\n",
    "title_5 = []\n",
    "mostpop_5 = []\n",
    "for author in books5_df['main_author'].unique():\n",
    "    year_list = books5_df.loc[books5_df['main_author'] == author,'original_publication_year'].tolist()\n",
    "    publication_years_5.append(year_list)\n",
    "    count_list = books5_df.loc[books5_df['main_author'] == author,'ratings_count'].tolist()\n",
    "    ratings_count_5.append(count_list)\n",
    "    author_list = [author for x in count_list]\n",
    "    main_author_5.append(author_list)\n",
    "    title_list = books5_df.loc[books5_df['main_author'] == author,'title'].tolist()\n",
    "    title_5.append(title_list)\n",
    "    mostpop_list = books5_df.loc[books5_df['main_author'] == author].sort_values('ratings_count',ascending=False)['title'].tolist()\n",
    "    mostpop_5.append(mostpop_list)\n",
    "    "
   ]
  },
  {
   "cell_type": "code",
   "execution_count": 56,
   "metadata": {},
   "outputs": [],
   "source": [
    "data5_1 = ColumnDataSource(data={\n",
    "    'author': main_author_5,\n",
    "    'title': title_5,\n",
    "    'year': publication_years_5,\n",
    "    'count': ratings_count_5,\n",
    "    'print_author': [i[0] for i in main_author_5],\n",
    "    'print_mostpop': [i[0] for i in mostpop_5],\n",
    "    'print_year': [i[0] for i in publication_years_5],\n",
    "    'print_books': [len(i) for i in ratings_count_5],\n",
    "    'print_count': [sum(i) for i in ratings_count_5],\n",
    "})"
   ]
  },
  {
   "cell_type": "code",
   "execution_count": 57,
   "metadata": {},
   "outputs": [],
   "source": [
    "data5_2 = ColumnDataSource(data={\n",
    "    'author': [i for sublist in main_author_5 for i in sublist],\n",
    "    'title': [i for sublist in title_5 for i in sublist],\n",
    "    'year': [i for sublist in publication_years_5 for i in sublist],\n",
    "    'count': [i for sublist in ratings_count_5 for i in sublist]\n",
    "})"
   ]
  },
  {
   "cell_type": "code",
   "execution_count": 58,
   "metadata": {},
   "outputs": [],
   "source": [
    "data5_3 = ColumnDataSource(data={\n",
    "    'author': [i[0] for i in main_author_5],\n",
    "    'year': [i[0] for i in publication_years_5],\n",
    "    'count': [i[0] for i in ratings_count_5]\n",
    "})"
   ]
  },
  {
   "cell_type": "code",
   "execution_count": 59,
   "metadata": {},
   "outputs": [],
   "source": [
    "colors5 = d3['Category20'][20]\n",
    "color_map5 = CategoricalColorMapper(factors=books5_df['main_author'].unique(),palette=colors5*3)"
   ]
  },
  {
   "cell_type": "code",
   "execution_count": 60,
   "metadata": {},
   "outputs": [],
   "source": [
    "p5 = figure(plot_width=1600, plot_height=700, x_range=(1800,1870), y_axis_type='log', title='Visualization 5: Popularity of Author Throughout Career (scrollable)')"
   ]
  },
  {
   "cell_type": "code",
   "execution_count": 61,
   "metadata": {},
   "outputs": [],
   "source": [
    "p5_circle1 = p5.circle(x='year',y='count', source=data5_2, size=8, color={'field': 'author', 'transform': color_map5})\n",
    "p5_line = p5.multi_line(xs='year', ys='count', source=data5_1, line_color='black', line_width=2.5, line_alpha= 0.025, hover_line_alpha=1)\n",
    "p5_circle2 = p5.text(x='year',y='count', text='author', source=data5_3, text_font_size= '8pt', x_offset=5, y_offset= 4)"
   ]
  },
  {
   "cell_type": "code",
   "execution_count": 62,
   "metadata": {},
   "outputs": [],
   "source": [
    "p5.add_tools(HoverTool(\n",
    "    renderers=[p5_circle1],\n",
    "    tooltips=[\n",
    "        ('Author', '@author'),\n",
    "        ('Title', '@title'),\n",
    "        ('Publication Year','@year'),\n",
    "        ('Number of Ratings','@count'),\n",
    "    ],\n",
    "    formatters={\n",
    "        'Author': 'printf',\n",
    "        'Title': 'printf',\n",
    "        'Publication Year' : 'datetime',\n",
    "        'Number of Ratings' : 'printf',\n",
    "    },\n",
    "    mode='mouse'\n",
    "))\n",
    "\n",
    "p5.add_tools(HoverTool(\n",
    "    renderers=[p5_line],\n",
    "    tooltips=[\n",
    "        ('Author', '@print_author'),\n",
    "        ('Most Popular Book', '@print_mostpop'),\n",
    "        ('First Publication Year','@print_year'),\n",
    "        ('Number of Publications', '@print_books'),\n",
    "        ('Number of Ratings','@print_count')\n",
    "    ],\n",
    "    formatters={\n",
    "        'Author': 'printf',\n",
    "        'Most Popular Book': 'printf',\n",
    "        'First Publication Year': 'datetime',\n",
    "        'Number of Publications' : 'printf',\n",
    "        'Number of Ratings' : 'printf'\n",
    "    },\n",
    "    mode='mouse',\n",
    "    line_policy='nearest'\n",
    "))\n",
    "p5.title.text_font_size = '20pt'\n",
    "p5.xaxis.axis_label = 'Publication Year'\n",
    "p5.yaxis.axis_label = 'Total Ratings (log scale)'\n",
    "p5.xgrid.grid_line_color = None\n",
    "p5.ygrid.grid_line_color = None"
   ]
  },
  {
   "cell_type": "markdown",
   "metadata": {},
   "source": [
    "## Create Grid"
   ]
  },
  {
   "cell_type": "code",
   "execution_count": 63,
   "metadata": {},
   "outputs": [],
   "source": [
    "l = layout([\n",
    "            [p1],\n",
    "            [p2],\n",
    "            [p3_all],\n",
    "            [p4],\n",
    "            [p5]\n",
    "            ])"
   ]
  },
  {
   "cell_type": "code",
   "execution_count": 64,
   "metadata": {},
   "outputs": [
    {
     "data": {
      "text/plain": [
       "'D:\\\\Code\\\\UCSD DSE\\\\DSE241\\\\final\\\\final.html'"
      ]
     },
     "execution_count": 64,
     "metadata": {},
     "output_type": "execute_result"
    }
   ],
   "source": [
    "output_file('../final.html', mode='inline')\n",
    "save(l)"
   ]
  },
  {
   "cell_type": "code",
   "execution_count": null,
   "metadata": {},
   "outputs": [],
   "source": []
  }
 ],
 "metadata": {
  "kernelspec": {
   "display_name": "Python 3",
   "language": "python",
   "name": "python3"
  },
  "language_info": {
   "codemirror_mode": {
    "name": "ipython",
    "version": 3
   },
   "file_extension": ".py",
   "mimetype": "text/x-python",
   "name": "python",
   "nbconvert_exporter": "python",
   "pygments_lexer": "ipython3",
   "version": "3.6.8"
  }
 },
 "nbformat": 4,
 "nbformat_minor": 2
}
